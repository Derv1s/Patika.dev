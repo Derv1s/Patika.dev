{
 "cells": [
  {
   "cell_type": "markdown",
   "metadata": {},
   "source": [
    "## Soru 1)\n",
    "1- Bir listeyi düzleştiren (flatten) fonksiyon yazın. \n",
    "Elemanları birden çok katmanlı listtlerden ([[3],2] gibi) oluşabileceği gibi, non-scalar verilerden de oluşabilir. \n",
    "Örnek olarak:\n",
    "\n",
    "input: [[1,'a',['cat'],2],[[[3]],'dog'],4,5]\n",
    "\n",
    "output: [1,'a','cat',2,3,'dog',4,5]"
   ]
  },
  {
   "cell_type": "code",
   "execution_count": 5,
   "metadata": {},
   "outputs": [
    {
     "data": {
      "text/plain": [
       "[3, 5, 'a', 'b', ['c']]"
      ]
     },
     "execution_count": 5,
     "metadata": {},
     "output_type": "execute_result"
    }
   ],
   "source": [
    "orneklist = [[1,'a',['cat'],2],[[[3]],'dog'],4,5]\n",
    "l = [ 3, 5, [\"a\"], [\"b\"], [[\"c\"]] ]\n",
    "\n",
    "# Verilen arrayi yalnızca bir kez düzleştiren bir fonksiyondur\n",
    "def flat(liste):\n",
    "    flat_l = []                        # -> boş bir liste oluşturduk = flat_l\n",
    "    for element in liste:              # -> fonksiyona giren arrayin elemanlarına bakıyoruz\n",
    "        if isinstance( element, list): # -> elemanlar, list tipinde ise true, değil ise false verir.\n",
    "            for el in element:         # -> liste tipindeki elemanların içindeki elemanlara bakıyoruz\n",
    "                flat_l.append(el)      # -> elemanları oluşturduğumuz boş listeye ekliyoruz\n",
    "        else:\n",
    "            flat_l.append(element)     # -> eğer elemanlar liste tipinde değilse direkt listeye ekleniyor\n",
    "        \n",
    "    \n",
    "    return flat_l                      # -> listenin son halini ekrana yazdırıyoruz\n",
    "\n",
    "flat(l)"
   ]
  },
  {
   "cell_type": "code",
   "execution_count": 1,
   "metadata": {},
   "outputs": [
    {
     "name": "stdout",
     "output_type": "stream",
     "text": [
      "False\n",
      "True\n",
      "True\n"
     ]
    }
   ],
   "source": [
    "\"\"\"\n",
    "array'in içinde başka array var mı onu anlayan, duruma göre de true false veren fonksiyon\n",
    "[ 1, 2, 3, \"asd\", \"c\"] -> false\n",
    "[ [a], 2, 3, 4] -> true\n",
    "\"\"\"\n",
    "\n",
    "# has_array aldığı arrayin içindeki elemanlarda da array var mı diye kontrol eden bir fonksiyondur.\n",
    "def has_array(arr):                         \n",
    "    for element in arr:                     # fonksiyona giren arrayin elemanlarına bakıyoruz\n",
    "        if isinstance( element, list):      # elemanlar içinde tipi liste olan var mı diye kontrol ediyoruz\n",
    "            return True                      \n",
    "    return False                            \n",
    "        \n",
    "print( has_array([ 1, 2, 3, \"asd\", \"c\"]) )\n",
    "print( has_array([ [\"a\"], 2, 3, 4]) )\n",
    "print( has_array([ 2, [\"a\"], 3, 4]) )\n"
   ]
  },
  {
   "cell_type": "code",
   "execution_count": 7,
   "metadata": {},
   "outputs": [
    {
     "name": "stdout",
     "output_type": "stream",
     "text": [
      "[1, 'a', 'cat', 2, 3, 'dog', 4, 5]\n"
     ]
    }
   ],
   "source": [
    "# Verilen arrayi düzleştiren (array içinde array varsa bunları ortadan kaldıran) bir fonksiyondur\n",
    "def flatten_list(arr):\n",
    "    while has_array(arr):\n",
    "        arr = flat(arr)\n",
    "    return arr\n",
    "\n",
    "print(flatten_list(orneklist))"
   ]
  },
  {
   "cell_type": "markdown",
   "metadata": {},
   "source": [
    "## Soru 2)\n",
    "\n",
    "2- Verilen listenin içindeki elemanları tersine döndüren bir fonksiyon yazın. Eğer listenin içindeki elemanlar da liste içeriyorsa onların elemanlarını da tersine döndürün. Örnek olarak:\n",
    "\n",
    "input: [[1, 2], [3, 4], [5, 6, 7]]\n",
    "\n",
    "output: [[7, 6, 5], [4, 3], [2, 1]]"
   ]
  },
  {
   "cell_type": "code",
   "execution_count": 13,
   "metadata": {
    "collapsed": true
   },
   "outputs": [
    {
     "name": "stdout",
     "output_type": "stream",
     "text": [
      "[[9, 8], [7, 6, 5, 4], [3, 2, 1]]\n"
     ]
    }
   ],
   "source": [
    "ornekarr = [[1,2,3],[4,5,6,7],[8,9]]\n",
    "\n",
    "# Verilen arrayin elemanlarını tersine çeviren fonksiyon\n",
    "def reverse_arr(arr):\n",
    "    reverse_arr = []\n",
    "    for sublist in arr:\n",
    "        reverse_arr.append(sublist[::-1])\n",
    "        \n",
    "    return print(reverse_arr[::-1])\n",
    "        \n",
    "reverse_arr(ornekarr)"
   ]
  }
 ],
 "metadata": {
  "kernelspec": {
   "display_name": "Python 3",
   "language": "python",
   "name": "python3"
  },
  "language_info": {
   "codemirror_mode": {
    "name": "ipython",
    "version": 3
   },
   "file_extension": ".py",
   "mimetype": "text/x-python",
   "name": "python",
   "nbconvert_exporter": "python",
   "pygments_lexer": "ipython3",
   "version": "3.8.3"
  }
 },
 "nbformat": 4,
 "nbformat_minor": 4
}
