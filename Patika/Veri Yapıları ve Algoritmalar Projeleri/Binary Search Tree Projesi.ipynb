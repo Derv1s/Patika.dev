{
 "cells": [
  {
   "cell_type": "markdown",
   "id": "f5359caf-b77c-4c68-80e9-ce11b9b60e11",
   "metadata": {},
   "source": [
    "# Binary Search Tree Projesi\n",
    "\n",
    "# Proje 3\n",
    "[7, 5, 1, 8, 3, 6, 0, 9, 4, 2] dizisinin Binary-Search-Tree aşamalarını yazınız.\n",
    "\n",
    "Örnek: root x'dir. root'un sağından y bulunur. Solunda z bulunur vb."
   ]
  },
  {
   "cell_type": "markdown",
   "id": "3f744224-a5d5-4216-af04-c8abb8ebaf0c",
   "metadata": {},
   "source": [
    "root = 5'tir. \n",
    "\n",
    "Root'un solunda 0,1,2,3,4 sayıları,\n",
    "\n",
    "Root'un sağında 6,7,8,9 sayıları bulunur.\n",
    "\n",
    "##### ===== 5 =====\n",
    "##### ⠀⠀⠀⠀⠀_/ \\\\_\n",
    "##### ⠀⠀2⠀⠀⠀⠀⠀⠀⠀7\n",
    "##### ⠀/ ⠀\\ ⠀⠀⠀⠀⠀/⠀ \\\n",
    "#####  1⠀⠀⠀3⠀⠀⠀6⠀⠀⠀8\n",
    "#####  |⠀⠀⠀⠀⠀⠀⠀⠀⠀⠀⠀⠀⠀\\\n",
    "#####  0⠀⠀⠀⠀⠀⠀⠀⠀⠀⠀⠀⠀⠀⠀⠀9"
   ]
  },
  {
   "cell_type": "code",
   "execution_count": null,
   "id": "cb78c340-a92a-42ef-bc80-518e8e6dc307",
   "metadata": {},
   "outputs": [],
   "source": []
  }
 ],
 "metadata": {
  "kernelspec": {
   "display_name": "Python 3 (ipykernel)",
   "language": "python",
   "name": "python3"
  },
  "language_info": {
   "codemirror_mode": {
    "name": "ipython",
    "version": 3
   },
   "file_extension": ".py",
   "mimetype": "text/x-python",
   "name": "python",
   "nbconvert_exporter": "python",
   "pygments_lexer": "ipython3",
   "version": "3.9.7"
  }
 },
 "nbformat": 4,
 "nbformat_minor": 5
}
