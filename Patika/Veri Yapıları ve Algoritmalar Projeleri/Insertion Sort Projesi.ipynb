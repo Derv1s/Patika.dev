{
 "cells": [
  {
   "cell_type": "markdown",
   "id": "fe38e03e-2898-4a1e-928a-cfae9120950b",
   "metadata": {},
   "source": [
    "# Insertion Sort Projesi"
   ]
  },
  {
   "cell_type": "markdown",
   "id": "85fa8d50-13a6-4562-b66f-74e77ae30be6",
   "metadata": {},
   "source": [
    "# Proje 1\n",
    "## [22,27,16,2,18,6] -> Insertion Sort\n",
    "\n",
    "1. Yukarı verilen dizinin sort türüne göre aşamalarını yazınız.\n",
    "\n",
    "2. Big-O gösterimini yazınız.\n",
    "\n",
    "3. Time Complexity: Average case: Aradığımız sayının ortada olması,Worst case: Aradığımız sayının sonda olması, Best case: Aradığımız sayının dizinin en başında olması.\n",
    "\n",
    "4. Dizi sıralandıktan sonra 18 sayısı hangi case kapsamına girer? Yazınız.\n",
    "\n",
    "[7,3,5,8,2,9,4,15,6] dizisinin Insertion Sort'a göre ilk 4 adımını yazınız."
   ]
  },
  {
   "cell_type": "markdown",
   "id": "5676dcbf-d84f-4582-9082-d7e581f44383",
   "metadata": {
    "jp-MarkdownHeadingCollapsed": true,
    "tags": []
   },
   "source": [
    "### 1. Sorunun Cevabı\n",
    "1. adım) [2,22,27,16,18,6]\n",
    "\n",
    "2. adım) [2,6,22,27,16,18]\n",
    "\n",
    "3. adım) [2,6,16,22,27,18]\n",
    "\n",
    "4. adım) [2,6,16,18,22,27]"
   ]
  },
  {
   "cell_type": "markdown",
   "id": "63f20858-35a6-4d78-946f-07cc9ff81415",
   "metadata": {},
   "source": [
    "### 2. Sorunun Cevabı\n",
    "O(n²)"
   ]
  },
  {
   "cell_type": "markdown",
   "id": "dddc54cb-8c66-4b10-99a0-a196bfb2e554",
   "metadata": {},
   "source": [
    "### 3. Sorunun Cevabı\n",
    "Time Complexity: O(n²) \n",
    "\n",
    "Best Case: O(n) \n",
    "\n",
    "Average ve Worst case: O(n²)"
   ]
  },
  {
   "cell_type": "markdown",
   "id": "f4028325-f37f-473d-894d-fcd7c90c6f4a",
   "metadata": {},
   "source": [
    "### 4. Sorunun Cevabı\n",
    "18 sayısı Average case kapsamına girer çünkü tam ortadaki sayı."
   ]
  },
  {
   "cell_type": "markdown",
   "id": "9bff6801-60f7-4ddd-bdc6-ccd9bb2726a9",
   "metadata": {},
   "source": [
    "## [7,3,5,8,2,9,4,15,6] dizisinin Insertion Sort'a göre ilk 4 adımını yazınız.\n",
    "\n",
    "Cevap:\n",
    "\n",
    "1. adım) [2,7,3,5,8,9,4,15,6]\n",
    "\n",
    "2. adım) [2,3,7,5,8,9,4,15,6]\n",
    "\n",
    "3. adım) [2,3,4,7,5,8,9,15,6]\n",
    "\n",
    "4. adım) [2,3,4,5,7,8,9,15,6]"
   ]
  }
 ],
 "metadata": {
  "kernelspec": {
   "display_name": "Python 3 (ipykernel)",
   "language": "python",
   "name": "python3"
  },
  "language_info": {
   "codemirror_mode": {
    "name": "ipython",
    "version": 3
   },
   "file_extension": ".py",
   "mimetype": "text/x-python",
   "name": "python",
   "nbconvert_exporter": "python",
   "pygments_lexer": "ipython3",
   "version": "3.9.7"
  }
 },
 "nbformat": 4,
 "nbformat_minor": 5
}
