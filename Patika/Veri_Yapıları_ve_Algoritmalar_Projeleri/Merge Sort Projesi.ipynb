{
 "cells": [
  {
   "cell_type": "markdown",
   "id": "6210052b-2344-46d3-a159-645683bac02f",
   "metadata": {},
   "source": [
    "# Merge Sort Projesi\n",
    "# Proje 2\n",
    "## [16,21,11,8,12,22] -> Merge Sort\n",
    "\n",
    "1. Yukarıdaki dizinin sort türüne göre aşamalarını yazınız.\n",
    "1. Big-O gösterimini yazınız."
   ]
  },
  {
   "cell_type": "markdown",
   "id": "6d29e489-db0b-4998-8249-2d0e84256dac",
   "metadata": {},
   "source": [
    "### 1. Sorunun Cevabı\n",
    "\n",
    "1. adım) [16,21,11], [8,12,22]\n",
    "\n",
    "2. adım) [16,21], [11], [8,12], [22]\n",
    "\n",
    "3. adım) [16], [21], [11], [8], [12], [22]\n",
    "\n",
    "4. adım) [16, 21], [11], [8, 12], [22]\n",
    "\n",
    "5. adım) [11, 16, 21] , [8, 12, 22]\n",
    "\n",
    "6. adım) [8, 11, 12, 16, 21, 22]"
   ]
  },
  {
   "cell_type": "markdown",
   "id": "ebe63135-11b6-45e1-aeeb-1aa7a9474404",
   "metadata": {},
   "source": [
    "### 2. Sorunun Cevabı\n",
    "O(n.logn)"
   ]
  }
 ],
 "metadata": {
  "kernelspec": {
   "display_name": "Python 3 (ipykernel)",
   "language": "python",
   "name": "python3"
  },
  "language_info": {
   "codemirror_mode": {
    "name": "ipython",
    "version": 3
   },
   "file_extension": ".py",
   "mimetype": "text/x-python",
   "name": "python",
   "nbconvert_exporter": "python",
   "pygments_lexer": "ipython3",
   "version": "3.9.7"
  }
 },
 "nbformat": 4,
 "nbformat_minor": 5
}
